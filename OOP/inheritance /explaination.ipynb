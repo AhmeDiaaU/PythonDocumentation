{
 "cells": [
  {
   "cell_type": "markdown",
   "metadata": {},
   "source": [
    "# Inheritance 1 : Motivation "
   ]
  },
  {
   "cell_type": "code",
   "execution_count": null,
   "metadata": {},
   "outputs": [],
   "source": [
    "# Common Vs Uniqe , Teacher and Student example \n",
    "\n",
    "class Teacher :\n",
    "    def __init__(self):\n",
    "        self.name = None # Common\n",
    "        self.email = None # Common\n",
    "        self.NationalID = None # Common\n",
    "        self.starting_employment_year = None # unique\n",
    "        self.current_salary = None # unique\n",
    "        self.teaching_Course = [] # unique\n",
    "\n",
    "    def is_valid_email(self , email): \n",
    "        pass\n",
    "    def add_course(self , course_id): \n",
    "        pass\n",
    "\n",
    "class Student :\n",
    "    def __init__(self):\n",
    "        self.name = None # Common\n",
    "        self.email = None # Common\n",
    "        self.NationalID = None # Common\n",
    "        self.starting_study_year = None # unique\n",
    "        self.GPA = None# unique\n",
    "        self.studied_courses = [] # unique\n",
    "    def is_valid_email(self , email):\n",
    "        pass\n",
    "    def add_course(self , couesr_id , grade): \n",
    "        pass\n",
    "    def print_grades(self): # unique\n",
    "        pass  "
   ]
  },
  {
   "cell_type": "code",
   "execution_count": 10,
   "metadata": {},
   "outputs": [
    {
     "name": "stdout",
     "output_type": "stream",
     "text": [
      "<class 'type'>\n",
      "True\n",
      "True\n",
      "True\n",
      "True\n"
     ]
    }
   ],
   "source": [
    "class Person :\n",
    "    def __init__(self):\n",
    "        self.name = None\n",
    "        self.email= None\n",
    "    def is_valid_email (self , email):\n",
    "        pass\n",
    "    def print_info():\n",
    "        pass\n",
    "\n",
    "class Student(Person):\n",
    "    def __init__(self):\n",
    "      Person.__init__(self) # Call parent init \n",
    "      self.GPA = 5\n",
    "      self.Studied_Courses = ['Python']\n",
    "\n",
    "## Isinheritance , is subclass and type\n",
    "st = Student()\n",
    "print(type(Student))\n",
    "print(isinstance(st,Student))\n",
    "print(issubclass(Student , Person))\n",
    "print(type(st) is Student)\n",
    "print(type(st) in [Person,Student])"
   ]
  },
  {
   "cell_type": "code",
   "execution_count": 12,
   "metadata": {},
   "outputs": [
    {
     "name": "stdout",
     "output_type": "stream",
     "text": [
      "True\n"
     ]
    },
    {
     "ename": "TypeError",
     "evalue": "issubclass() arg 1 must be a class",
     "output_type": "error",
     "traceback": [
      "\u001b[0;31m---------------------------------------------------------------------------\u001b[0m",
      "\u001b[0;31mTypeError\u001b[0m                                 Traceback (most recent call last)",
      "Cell \u001b[0;32mIn[12], line 8\u001b[0m\n\u001b[1;32m      6\u001b[0m \u001b[38;5;66;03m#even module => \u001b[39;00m\n\u001b[1;32m      7\u001b[0m \u001b[38;5;28;01mimport\u001b[39;00m\u001b[38;5;250m \u001b[39m\u001b[38;5;21;01mmath\u001b[39;00m\n\u001b[0;32m----> 8\u001b[0m \u001b[38;5;28mprint\u001b[39m(\u001b[38;5;28;43missubclass\u001b[39;49m\u001b[43m(\u001b[49m\u001b[43mmath\u001b[49m\u001b[43m \u001b[49m\u001b[43m,\u001b[49m\u001b[43m \u001b[49m\u001b[38;5;28;43mobject\u001b[39;49m\u001b[43m)\u001b[49m)\n",
      "\u001b[0;31mTypeError\u001b[0m: issubclass() arg 1 must be a class"
     ]
    }
   ],
   "source": [
    "# The Object Super Class \n",
    " # Every Class in python is part of super class called Object \n",
    "\n",
    "print(issubclass(list , object))\n",
    "\n",
    "#even module => \n",
    "import math\n",
    "print(isinstance(math , object))"
   ]
  }
 ],
 "metadata": {
  "interpreter": {
   "hash": "916dbcbb3f70747c44a77c7bcd40155683ae19c65e1c03b4aa3499c5328201f1"
  },
  "kernelspec": {
   "display_name": "Python 3.10.12 64-bit",
   "language": "python",
   "name": "python3"
  },
  "language_info": {
   "codemirror_mode": {
    "name": "ipython",
    "version": 3
   },
   "file_extension": ".py",
   "mimetype": "text/x-python",
   "name": "python",
   "nbconvert_exporter": "python",
   "pygments_lexer": "ipython3",
   "version": "3.10.12"
  },
  "orig_nbformat": 4
 },
 "nbformat": 4,
 "nbformat_minor": 2
}
