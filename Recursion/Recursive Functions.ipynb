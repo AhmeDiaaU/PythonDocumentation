{
 "cells": [
  {
   "cell_type": "code",
   "execution_count": 1,
   "metadata": {},
   "outputs": [
    {
     "name": "stdout",
     "output_type": "stream",
     "text": [
      "120\n"
     ]
    }
   ],
   "source": [
    "# when we face a problem we decomose it into smaller problems\n",
    "# we solve the smaller problems and then combine the solutions\n",
    "# to solve the bigger problem\n",
    "# this is called divide and conquer\n",
    "\n",
    "def factorial(n):\n",
    "    res = 1 \n",
    "    for i in range(2 , n+1):\n",
    "        res *=i\n",
    "    return res\n",
    "if __name__ == \"__main__\":\n",
    "    print(factorial(5)) # 1 * 2 * 3 * 4 * 5 = 120\n",
    "\n",
    "# this is without recursion\n",
    "# we can get factorial of 6 by multiplying 6 by factorial of 5\n",
    "# and so on , but we stop at base case which is 1\n",
    "\n",
    "# to det a factorial we can make it like\n",
    "def factorial1():\n",
    "    return 1\n",
    "def factorial2(n):\n",
    "    return 2 * factorial1()\n",
    "def factorial3(n):\n",
    "    return 3 * factorial2(n)\n",
    "def factorial4(n):\n",
    "    return 4 * factorial3(n)\n",
    "def factorial5(n):\n",
    "    return 5 * factorial4(n)\n",
    "def factorial6(n):\n",
    "    return 6 * factorial5(n)\n",
    "# it is not practical to write this way"
   ]
  },
  {
   "cell_type": "code",
   "execution_count": 2,
   "metadata": {},
   "outputs": [
    {
     "name": "stdout",
     "output_type": "stream",
     "text": [
      "Function call : factorial : n= 6\n",
      "Function call : factorial : n= 5\n",
      "Function call : factorial : n= 4\n",
      "Function call : factorial : n= 3\n",
      "Function call : factorial : n= 2\n",
      "Function call : factorial : n= 1\n",
      "720\n"
     ]
    },
    {
     "data": {
      "text/plain": [
       "'\\n    we can trace it in another way\\n    main : factorial(6)\\n    factorial (6) : return factorial(5) * 6\\n    factorial (5) : return factorial(4) * 5\\n    factorial (4) : return factorial(3) * 4\\n    factorial (3) : return factorial(2) * 3\\n    factorial (2) : return factorial(1) * 2\\n    factorial (1) : return 1 \\n    we have 6 active calls to factorial \\n    we first finish the base case then we use it in factorial 2  factorial(2) return 1 * 2 \\n    and on on then factorial (5) we can get its number and get factorial(5) * 6\\n'"
      ]
     },
     "execution_count": 2,
     "metadata": {},
     "output_type": "execute_result"
    }
   ],
   "source": [
    "# we can use a function which can call itself \n",
    "\n",
    "def factorial(n):\n",
    "    print(\"Function call : factorial : n=\" , n)\n",
    "    if n == 1 : # base case\n",
    "        return 1\n",
    "    return factorial(n-1)*n # recursive case \n",
    "if __name__ == \"__main__\":\n",
    "    print(factorial(6))\n",
    "\n",
    "\n",
    "    \"\"\"\n",
    "    we can trace it \n",
    "    if 6 == 1 ? False:\n",
    "        return 1\n",
    "    return factorial(5) * 6\n",
    "    if 5 == 1 ? False :\n",
    "        return 1\n",
    "        call factorial(4) * 5\n",
    "    if 4 == 1 ? False :\n",
    "        return 1\n",
    "        call factorial(3) * 4\n",
    "    if 3 == 1 ? False :\n",
    "        return 1\n",
    "        call factorial(2) * 3\n",
    "    if 2 == 1 ? False :\n",
    "        return 1\n",
    "        call factorial(1) * 2\n",
    "    if 1 == 1 ? True :\n",
    "        return 1            \n",
    "    \"\"\"\n",
    "\n",
    "\"\"\"\n",
    "    we can trace it in another way\n",
    "    main : factorial(6)\n",
    "    factorial (6) : return factorial(5) * 6\n",
    "    factorial (5) : return factorial(4) * 5\n",
    "    factorial (4) : return factorial(3) * 4\n",
    "    factorial (3) : return factorial(2) * 3\n",
    "    factorial (2) : return factorial(1) * 2\n",
    "    factorial (1) : return 1 \n",
    "    we have 6 active calls to factorial \n",
    "    we first finish the base case then we use it in factorial 2  factorial(2) return 1 * 2 \n",
    "    and on on then factorial (5) we can get its number and get factorial(5) * 6\n",
    "\"\"\""
   ]
  },
  {
   "cell_type": "code",
   "execution_count": 3,
   "metadata": {},
   "outputs": [
    {
     "name": "stdout",
     "output_type": "stream",
     "text": [
      "5\n",
      "* * * * * \n",
      "4\n",
      "* * * * \n",
      "3\n",
      "* * * \n",
      "2\n",
      "* * \n",
      "1\n",
      "* \n",
      "0\n"
     ]
    },
    {
     "data": {
      "text/plain": [
       "'\\ncall print_triangle() till base case which is n == 0\\nthen , we start printing 5 stars then 4 stars then 3 stars then 2 stars then 1 star\\n'"
      ]
     },
     "execution_count": 3,
     "metadata": {},
     "output_type": "execute_result"
    }
   ],
   "source": [
    "# Print Triangle\n",
    "\n",
    "def print_triangle(n):  \n",
    "    print(n) # to trace the function call \n",
    "    if n ==  0:\n",
    "        return 0 \n",
    "    for i in range(n):\n",
    "        print(\"*\" , end = \" \")\n",
    "    print()\n",
    "    print_triangle(n-1) # recursive call\n",
    "print_triangle(5)\n",
    "\"\"\"\n",
    "call print_triangle() till base case which is n == 0\n",
    "then , we start printing 5 stars then 4 stars then 3 stars then 2 stars then 1 star\n",
    "\"\"\""
   ]
  },
  {
   "cell_type": "code",
   "execution_count": 4,
   "metadata": {},
   "outputs": [
    {
     "name": "stdout",
     "output_type": "stream",
     "text": [
      "1\n",
      "* \n",
      "2\n",
      "* * \n",
      "3\n",
      "* * * \n",
      "4\n",
      "* * * * \n",
      "5\n",
      "* * * * * \n"
     ]
    }
   ],
   "source": [
    "# print reverse triangle\n",
    "def print_reverse_triangle(n):\n",
    "    if n == 0:\n",
    "        return 0  \n",
    "    print_reverse_triangle(n-1) # recursive call\n",
    "    # here this call print from 1 to n-1 \n",
    "    print(n) # to trace my call\n",
    "    for i in range(n): # thn tis will print n number of stars \n",
    "        print('*' , end = \" \")\n",
    "    print()\n",
    "print_reverse_triangle(5)"
   ]
  },
  {
   "cell_type": "code",
   "execution_count": 5,
   "metadata": {},
   "outputs": [
    {
     "data": {
      "text/plain": [
       "9"
      ]
     },
     "execution_count": 5,
     "metadata": {},
     "output_type": "execute_result"
    }
   ],
   "source": [
    "# print 3n +1 sequance\n",
    "def sequance(n,counter):\n",
    "    counter +=1\n",
    "    if n == 1 :\n",
    "        return counter\n",
    "    if n % 2 == 0:\n",
    "        return sequance(n//2,counter)\n",
    "    else :\n",
    "        return sequance(3*n + 1,counter)\n",
    "counter = 0\n",
    "sequance(6,counter)"
   ]
  },
  {
   "cell_type": "code",
   "execution_count": 6,
   "metadata": {},
   "outputs": [
    {
     "name": "stdout",
     "output_type": "stream",
     "text": [
      "3\n",
      "2\n",
      "1\n"
     ]
    },
    {
     "data": {
      "text/plain": [
       "6"
      ]
     },
     "execution_count": 6,
     "metadata": {},
     "output_type": "execute_result"
    }
   ],
   "source": [
    "def getSum(iterable):\n",
    "    if len(iterable) == 0 :\n",
    "        return 0 \n",
    "    else :\n",
    "        print(len(iterable))\n",
    "        return iterable[0] + getSum(iterable[1:])\n",
    "getSum([1,2,3])"
   ]
  },
  {
   "cell_type": "code",
   "execution_count": 7,
   "metadata": {},
   "outputs": [
    {
     "name": "stdout",
     "output_type": "stream",
     "text": [
      "16\n"
     ]
    }
   ],
   "source": [
    "# power function \n",
    "\n",
    "def my_pow(value , p=2):\n",
    "    if p == 0:\n",
    "        return 1 \n",
    "    else :\n",
    "        return value*my_pow(value , p-1)\n",
    "    \n",
    "print(my_pow(4, 2))\n"
   ]
  },
  {
   "cell_type": "code",
   "execution_count": 8,
   "metadata": {},
   "outputs": [
    {
     "name": "stdout",
     "output_type": "stream",
     "text": [
      "12.0\n"
     ]
    }
   ],
   "source": [
    "#List Average \n",
    "def Avg(lst):\n",
    "    l = len(lst)\n",
    "    if len(lst) == 0: # two base case \n",
    "        return 0\n",
    "    if len(lst) == 0 :\n",
    "        return lst[1]\n",
    "    n = len(lst)  # Calculate the length of the list and store it in variable `n`.\n",
    "    s = (n-1) * Avg(lst[1:])  # Recursively calculate the sum of the remaining elements in the list (excluding the first element) and multiply it by (n-1).\n",
    "    return (lst[0] + s / n)  # Add the first element of the list to the average of the remaining elements (calculated as `s / n`) and return the result.\n",
    "\n",
    "print(Avg([1,2,3,4,5,6,7]))"
   ]
  },
  {
   "cell_type": "code",
   "execution_count": 9,
   "metadata": {},
   "outputs": [
    {
     "name": "stdout",
     "output_type": "stream",
     "text": [
      "2523566\n"
     ]
    }
   ],
   "source": [
    "# List max \n",
    "def list_max(lst):\n",
    "    if len(lst) == 1 :\n",
    "        return lst[0]\n",
    "    sub = list_max(lst[1:])\n",
    "    if lst[0] > sub :\n",
    "        return lst[0]\n",
    "    return sub\n",
    "print(list_max([123,321,441,2523566,34,6,346,643,6]))"
   ]
  },
  {
   "cell_type": "code",
   "execution_count": 10,
   "metadata": {},
   "outputs": [
    {
     "name": "stdout",
     "output_type": "stream",
     "text": [
      "[7, 8, 8, 8, 8, 9]\n"
     ]
    }
   ],
   "source": [
    "# list increment V1\n",
    "\n",
    "def increment(lst):\n",
    "    if len(lst) == 0:\n",
    "        return []\n",
    "    cur = lst[0]+ len(lst) # value of the first will be first + len(lst)\n",
    "    return [cur] + increment(lst[1:]) # this will do it to all the items in the list\n",
    "\n",
    "lst = [1,3,4,5,6,8]\n",
    "print(increment(lst))"
   ]
  },
  {
   "cell_type": "code",
   "execution_count": 11,
   "metadata": {},
   "outputs": [
    {
     "name": "stdout",
     "output_type": "stream",
     "text": [
      "[1, 9, 11, 21, 24]\n"
     ]
    }
   ],
   "source": [
    "# List Accumulation v1\n",
    "def accumlation(lst):  # [1,8,2,10,3]\n",
    "    # Base case: If the list has one or no elements, return the list itself.\n",
    "    if len(lst) <= 1:\n",
    "        return lst\n",
    "    head = accumlation(lst[:-1])\n",
    "    last = head[-1] + lst[-1]  \n",
    "    head.append(last)\n",
    "    return head\n",
    "\n",
    "lst = [1,8,2,10,3]\n",
    "print(accumlation(lst))"
   ]
  },
  {
   "cell_type": "code",
   "execution_count": 1,
   "metadata": {},
   "outputs": [
    {
     "name": "stdout",
     "output_type": "stream",
     "text": [
      "[6, 12, 5, 12, 4]\n"
     ]
    }
   ],
   "source": [
    "#list increment v2\n",
    "def list_increment(lst , postion = 0):\n",
    "    if len(lst) == postion:\n",
    "        return \n",
    "    lst[postion] += len(lst) - postion # [1, 8, 2 , 10 , 3]\n",
    "    list_increment(lst , postion+1)\n",
    "lst = [1,8,2,10,3]\n",
    "list_increment(lst)\n",
    "print(lst)\n"
   ]
  },
  {
   "cell_type": "code",
   "execution_count": null,
   "metadata": {},
   "outputs": [
    {
     "name": "stdout",
     "output_type": "stream",
     "text": [
      "[1, 8, 2, 10, 3]\n",
      "9 1\n",
      "[1, 9, 2, 10, 3]\n",
      "11 9\n",
      "[1, 9, 11, 10, 3]\n",
      "21 11\n",
      "[1, 9, 11, 21, 3]\n",
      "24 21\n",
      "[1, 9, 11, 21, 24]\n"
     ]
    }
   ],
   "source": [
    "# List Accumulation v2\n",
    "def list_accumlator(lst , ln = None):\n",
    "    if ln is None :\n",
    "        ln = len(lst)\n",
    "    if ln <= 1:\n",
    "        return\n",
    "    list_accumlator(lst , ln-1)\n",
    "    print(lst)\n",
    "    print(lst[ln-1],lst[ln-2])\n",
    "    lst[ln-1] += lst[ln-2]\n",
    "lst = [1,8,2,10,3]\n",
    "list_accumlator(lst)\n",
    "print(lst)"
   ]
  }
 ],
 "metadata": {
  "kernelspec": {
   "display_name": "Python 3",
   "language": "python",
   "name": "python3"
  },
  "language_info": {
   "codemirror_mode": {
    "name": "ipython",
    "version": 3
   },
   "file_extension": ".py",
   "mimetype": "text/x-python",
   "name": "python",
   "nbconvert_exporter": "python",
   "pygments_lexer": "ipython3",
   "version": "3.12.4"
  }
 },
 "nbformat": 4,
 "nbformat_minor": 2
}
