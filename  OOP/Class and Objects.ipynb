{
 "cells": [
  {
   "cell_type": "code",
   "execution_count": 4,
   "id": "758159ee",
   "metadata": {},
   "outputs": [
    {
     "name": "stdout",
     "output_type": "stream",
     "text": [
      "ahmed diaa\n"
     ]
    }
   ],
   "source": [
    "class Person :\n",
    "    def __init__(self ,full_name):\n",
    "        self.first_name , self.last_name = full_name.lower().split(\" \")\n",
    "    # full_name is a property\n",
    "\n",
    "    @property # getter \n",
    "    def full_name(self):\n",
    "        return f\"{self.first_name} {self.last_name}\"\n",
    "    @full_name.setter # setter\n",
    "    def full_name(self , value):\n",
    "        self.first_name , self.last_name = value.lower().split(\" \")\n",
    "\n",
    "def f1():\n",
    "    person = Person(\"Ahmed Diaa\")\n",
    "    print(person.full_name) # getter\n",
    "    person.full_name = \"Mohamed Diaa\" # setter\n",
    "\n",
    "f1() "
   ]
  },
  {
   "cell_type": "code",
   "execution_count": 8,
   "id": "f29c7977",
   "metadata": {},
   "outputs": [
    {
     "name": "stdout",
     "output_type": "stream",
     "text": [
      "1000\n",
      "0\n"
     ]
    }
   ],
   "source": [
    "class Person :\n",
    "    def __init__(self , salary):\n",
    "        self._salary = salary \n",
    "\n",
    "    @property # getter\n",
    "    def salary(self):\n",
    "        return self._salary\n",
    "    @salary.setter # setter\n",
    "    def salary(self , value):\n",
    "        if value < 0 :\n",
    "            value = 0 \n",
    "        self._salary = value  # here we are calling the salary in a infinite recursive call \n",
    "        # just watch out \n",
    "        # First solution is to set  a name for salary to tell other to not change \n",
    "def f1():\n",
    "    person = Person(1000)\n",
    "    print(person.salary)\n",
    "    person.salary = -1000\n",
    "    print(person.salary)\n",
    "f1()"
   ]
  },
  {
   "cell_type": "code",
   "execution_count": 12,
   "id": "c379648c",
   "metadata": {},
   "outputs": [
    {
     "name": "stdout",
     "output_type": "stream",
     "text": [
      "0:0:45\n",
      "Total minutes: 0.75\n",
      "Total seconds: 45\n"
     ]
    }
   ],
   "source": [
    "class Time :\n",
    "    # def __init__(self , hours , minutes , seconds):\n",
    "    #     self.hours = hours\n",
    "    #     self.minutes = minutes\n",
    "    #     self.seconds = seconds\n",
    "\n",
    "    def __init__ (self , hours = 0 , minutes = 0 , seconds = 0):\n",
    "        self.hours = hours\n",
    "        self.minutes = minutes\n",
    "        self.seconds = seconds\n",
    "\n",
    "    def get_total_minutes(self):\n",
    "        return self.hours * 60 + self.minutes + self.seconds / 60\n",
    "    \n",
    "    def get_total_seconds(self):\n",
    "        return self.hours *60*60 +self.minutes*60 +self.seconds\n",
    "    \n",
    "    def __str__(self):\n",
    "        return f\"{self.hours}:{self.minutes}:{self.seconds}\"\n",
    "    \n",
    "if __name__ == \"__main__\":\n",
    "    time = Time(seconds= 45)\n",
    "    print(time)\n",
    "    print(\"Total minutes:\", time.get_total_minutes())\n",
    "    print(\"Total seconds:\", time.get_total_seconds())"
   ]
  },
  {
   "cell_type": "code",
   "execution_count": 14,
   "id": "7ac7f00a",
   "metadata": {},
   "outputs": [
    {
     "name": "stdout",
     "output_type": "stream",
     "text": [
      "Total employees: 2\n",
      "2\n"
     ]
    }
   ],
   "source": [
    "# static variable \n",
    "class Employee :\n",
    "    total_employees = 0\n",
    "    def __init__ (self , name):\n",
    "        self.name = name\n",
    "        Employee.total_employees+=1\n",
    "\n",
    "if __name__ == \"__main__\":\n",
    "    emp1 = Employee(\"Ahmed\")\n",
    "    emp2 = Employee(\"Mohamed\")\n",
    "    print(\"Total employees:\", Employee.total_employees)\n",
    "    print(emp1.total_employees)\n",
    "    "
   ]
  },
  {
   "cell_type": "code",
   "execution_count": null,
   "id": "8aabb922",
   "metadata": {},
   "outputs": [
    {
     "name": "stdout",
     "output_type": "stream",
     "text": [
      "Total employees: 2\n",
      "{'name': 'Ahmed'}\n",
      "{'__module__': '__main__', '__firstlineno__': 3, '__doc__': 'Class Employee is ', 'total_employees': 2, '__init__': <function Employee.__init__ at 0x7fe384dc0540>, 'print': <function Employee.print at 0x7fe384dc04a0>, 'our_f': <classmethod(<function Employee.our_f at 0x7fe384dc05e0>)>, '__static_attributes__': (), '__dict__': <attribute '__dict__' of 'Employee' objects>, '__weakref__': <attribute '__weakref__' of 'Employee' objects>}\n"
     ]
    }
   ],
   "source": [
    "# Class namespace \n",
    "\n",
    "class Employee :\n",
    "    \"Class Employee is \"\n",
    "    total_employees = 0\n",
    "    def __init__(Self , name):\n",
    "        Self.name = name\n",
    "        Employee.total_employees+=1\n",
    "    def print(self):\n",
    "        pass\n",
    "\n",
    "    @classmethod\n",
    "    def our_f(cls):\n",
    "        pass\n",
    "\n",
    "if __name__ == \"__main__\":\n",
    "    emp1 = Employee(\"Ahmed\")\n",
    "    emp2 = Employee(\"Mohamed\")\n",
    "    print(\"Total employees:\", Employee.total_employees)\n",
    "\n",
    "    print(emp1.__dict__)\n",
    "    print(Employee.__dict__)\n",
    "\n",
    "    # this dct is the namespace of the class , which shows everything inside it \n",
    "    "
   ]
  },
  {
   "attachments": {
    "image.png": {
     "image/png": ""
    }
   },
   "cell_type": "markdown",
   "id": "d602751d",
   "metadata": {},
   "source": [
    "![image.png](attachment:image.png)\n",
    "\n",
    "\n",
    "-Exlain how to assign anew variable for an object "
   ]
  },
  {
   "cell_type": "markdown",
   "id": "2fc04ebb",
   "metadata": {},
   "source": [
    "- Explaination of going back to Class level after deleting same name in object\n",
    "\n",
    "### \n",
    "example : \n",
    "  print(Employee.employeecounter) # 2 \n",
    "  obj1.employeecounter = 10 # assigned\n",
    "  del obj1.employeecounter \n",
    "  print(obj1.employeecounter) # 2  \n",
    "\n"
   ]
  },
  {
   "cell_type": "code",
   "execution_count": null,
   "id": "e3a9396a",
   "metadata": {},
   "outputs": [
    {
     "name": "stdout",
     "output_type": "stream",
     "text": [
      "The First name is : ahmed , last name : diaa\n"
     ]
    }
   ],
   "source": [
    "# Static Methods \n",
    "\n",
    "class Person :\n",
    "    def __init__(self , name):\n",
    "        self.first , self.last = Person.process(name)\n",
    "\n",
    "    def __repr__(self):\n",
    "        return f\"The First name is : {self.first} , last name : {self.last}\"\n",
    "    @staticmethod \n",
    "    def process(name):\n",
    "        first , *last = name.lower().split(\" \")\n",
    "        last = \" \".join(last)\n",
    "        return first , last \n",
    "\n",
    "\n",
    "if __name__ == \"__main__\":\n",
    "    print(Person(\"Ahmed Diaa El Deen Kamel\"))\n"
   ]
  },
  {
   "cell_type": "code",
   "execution_count": 3,
   "id": "80338e8d",
   "metadata": {},
   "outputs": [
    {
     "name": "stdout",
     "output_type": "stream",
     "text": [
      "The First name is : ahmed , last name : diaa el deen kamel\n"
     ]
    }
   ],
   "source": [
    "# Static Methods \n",
    "\n",
    "class Person :\n",
    "    def __init__(self , First_name , Second_name):\n",
    "        self.first , self.last = First_name , Second_name\n",
    "\n",
    "    def __repr__(self):\n",
    "        return f\"The First name is : {self.first} , last name : {self.last}\"\n",
    "    \n",
    "    @classmethod \n",
    "    def get_person_from_full_name(cls , fullname):\n",
    "        first , last = cls.process(fullname)\n",
    "        return cls(first , last)\n",
    "    \n",
    "    @staticmethod \n",
    "    def process(name):\n",
    "        first , *last = name.lower().split(\" \")\n",
    "        last = \" \".join(last)\n",
    "        return first , last \n",
    "\n",
    "\n",
    "if __name__ == \"__main__\":\n",
    "    per = Person.get_person_from_full_name(\"Ahmed Diaa El deen Kamel\")\n",
    "    print(per)\n"
   ]
  }
 ],
 "metadata": {
  "kernelspec": {
   "display_name": "Python 3",
   "language": "python",
   "name": "python3"
  },
  "language_info": {
   "codemirror_mode": {
    "name": "ipython",
    "version": 3
   },
   "file_extension": ".py",
   "mimetype": "text/x-python",
   "name": "python",
   "nbconvert_exporter": "python",
   "pygments_lexer": "ipython3",
   "version": "3.13.3"
  }
 },
 "nbformat": 4,
 "nbformat_minor": 5
}
