{
 "cells": [
  {
   "cell_type": "code",
   "execution_count": 4,
   "id": "758159ee",
   "metadata": {},
   "outputs": [
    {
     "name": "stdout",
     "output_type": "stream",
     "text": [
      "ahmed diaa\n"
     ]
    }
   ],
   "source": [
    "class Person :\n",
    "    def __init__(self ,full_name):\n",
    "        self.first_name , self.last_name = full_name.lower().split(\" \")\n",
    "    # full_name is a property\n",
    "\n",
    "    @property # getter \n",
    "    def full_name(self):\n",
    "        return f\"{self.first_name} {self.last_name}\"\n",
    "    @full_name.setter # setter\n",
    "    def full_name(self , value):\n",
    "        self.first_name , self.last_name = value.lower().split(\" \")\n",
    "\n",
    "def f1():\n",
    "    person = Person(\"Ahmed Diaa\")\n",
    "    print(person.full_name) # getter\n",
    "    person.full_name = \"Mohamed Diaa\" # setter\n",
    "\n",
    "f1() "
   ]
  },
  {
   "cell_type": "code",
   "execution_count": null,
   "id": "f29c7977",
   "metadata": {},
   "outputs": [],
   "source": [
    "class Person :\n",
    "    def __init__(self , salary):\n",
    "        self.salary = salary \n",
    "\n",
    "    @property # getter\n",
    "    def salary(self):\n",
    "        return self.salary\n",
    "    @salary.setter # setter\n",
    "    def salary(self , value):\n",
    "        if value < 0 :\n",
    "            value = 0 \n",
    "        self.salary = value  # here we are calling the salary in a infinite recursive call \n",
    "        "
   ]
  }
 ],
 "metadata": {
  "kernelspec": {
   "display_name": "Python 3",
   "language": "python",
   "name": "python3"
  },
  "language_info": {
   "codemirror_mode": {
    "name": "ipython",
    "version": 3
   },
   "file_extension": ".py",
   "mimetype": "text/x-python",
   "name": "python",
   "nbconvert_exporter": "python",
   "pygments_lexer": "ipython3",
   "version": "3.13.3"
  }
 },
 "nbformat": 4,
 "nbformat_minor": 5
}
